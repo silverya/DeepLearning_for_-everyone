{
  "nbformat": 4,
  "nbformat_minor": 0,
  "metadata": {
    "colab": {
      "name": "모두를 위한 딥러닝2",
      "provenance": [],
      "collapsed_sections": [],
      "authorship_tag": "ABX9TyOPrIBUIe/PedN1Z5HZyRx8",
      "include_colab_link": true
    },
    "kernelspec": {
      "name": "python3",
      "display_name": "Python 3"
    },
    "language_info": {
      "name": "python"
    }
  },
  "cells": [
    {
      "cell_type": "markdown",
      "metadata": {
        "id": "view-in-github",
        "colab_type": "text"
      },
      "source": [
        "<a href=\"https://colab.research.google.com/github/silverya/DeepLearning_for_everyone/blob/main/%EB%AA%A8%EB%91%90%EB%A5%BC_%EC%9C%84%ED%95%9C_%EB%94%A5%EB%9F%AC%EB%8B%9D2.ipynb\" target=\"_parent\"><img src=\"https://colab.research.google.com/assets/colab-badge.svg\" alt=\"Open In Colab\"/></a>"
      ]
    },
    {
      "cell_type": "markdown",
      "source": [
        "**1. simple linear regression LAB**"
      ],
      "metadata": {
        "id": "FCjBYS33ECJG"
      }
    },
    {
      "cell_type": "code",
      "source": [
        "import tensorflow as tf"
      ],
      "metadata": {
        "id": "YtiddPxy7h6H"
      },
      "execution_count": 2,
      "outputs": []
    },
    {
      "cell_type": "markdown",
      "source": [
        "H(x) = Wx + b"
      ],
      "metadata": {
        "id": "JnvaJ0Ee8eKm"
      }
    },
    {
      "cell_type": "code",
      "execution_count": 3,
      "metadata": {
        "id": "scgXrQfMD8Y9"
      },
      "outputs": [],
      "source": [
        "x_data = [1,2,3,4,5]\n",
        "y_data = [1,2,3,4,5]"
      ]
    },
    {
      "cell_type": "code",
      "source": [
        "W = tf.Variable(2.9) # 초기값\n",
        "b = tf.Variable(0.5) # 초기값"
      ],
      "metadata": {
        "id": "_QLhLKyt7PvU"
      },
      "execution_count": 4,
      "outputs": []
    },
    {
      "cell_type": "code",
      "source": [
        "hypothesis = W*x_data+b"
      ],
      "metadata": {
        "id": "LxVa8V0-7zMq"
      },
      "execution_count": 5,
      "outputs": []
    },
    {
      "cell_type": "code",
      "source": [
        "print(hypothesis)"
      ],
      "metadata": {
        "colab": {
          "base_uri": "https://localhost:8080/"
        },
        "id": "lqalMRqR91_-",
        "outputId": "bcb8b9d2-4c4d-4174-d042-9987fb15b7f5"
      },
      "execution_count": 6,
      "outputs": [
        {
          "output_type": "stream",
          "name": "stdout",
          "text": [
            "tf.Tensor([ 3.4       6.3       9.200001 12.1      15.      ], shape=(5,), dtype=float32)\n"
          ]
        }
      ]
    },
    {
      "cell_type": "code",
      "source": [
        "cost = tf.reduce_mean(tf.square(hypothesis - y_data))"
      ],
      "metadata": {
        "id": "lri-fouf9cP2"
      },
      "execution_count": 7,
      "outputs": []
    },
    {
      "cell_type": "code",
      "source": [
        "print(cost)"
      ],
      "metadata": {
        "colab": {
          "base_uri": "https://localhost:8080/"
        },
        "id": "XBdb7_vHgnlk",
        "outputId": "b91c14b8-1163-4928-8a9e-58d93de48c1a"
      },
      "execution_count": 8,
      "outputs": [
        {
          "output_type": "stream",
          "name": "stdout",
          "text": [
            "tf.Tensor(45.660004, shape=(), dtype=float32)\n"
          ]
        }
      ]
    },
    {
      "cell_type": "code",
      "source": [
        "v = [1.,2.,3.,4.]\n",
        "tf.reduce_mean(v)"
      ],
      "metadata": {
        "colab": {
          "base_uri": "https://localhost:8080/"
        },
        "id": "-9KMie0MjBjc",
        "outputId": "44a0ecd8-6556-4840-cd08-f96e23dd2af2"
      },
      "execution_count": 9,
      "outputs": [
        {
          "output_type": "execute_result",
          "data": {
            "text/plain": [
              "<tf.Tensor: shape=(), dtype=float32, numpy=2.5>"
            ]
          },
          "metadata": {},
          "execution_count": 9
        }
      ]
    },
    {
      "cell_type": "code",
      "source": [
        "tf.square(3) # 제곱 값"
      ],
      "metadata": {
        "colab": {
          "base_uri": "https://localhost:8080/"
        },
        "id": "mxROp5sIjMcb",
        "outputId": "dac1c7ac-c720-4328-a427-48aaa7a75fb1"
      },
      "execution_count": 11,
      "outputs": [
        {
          "output_type": "execute_result",
          "data": {
            "text/plain": [
              "<tf.Tensor: shape=(), dtype=int32, numpy=9>"
            ]
          },
          "metadata": {},
          "execution_count": 11
        }
      ]
    },
    {
      "cell_type": "markdown",
      "source": [
        "Gradient descent"
      ],
      "metadata": {
        "id": "jSuv21k_jbKy"
      }
    },
    {
      "cell_type": "code",
      "source": [
        "learning_rate = 0.01"
      ],
      "metadata": {
        "id": "RLhmSeYwjYl2"
      },
      "execution_count": 19,
      "outputs": []
    },
    {
      "cell_type": "code",
      "source": [
        "with tf.GradientTape() as tape:\n",
        "    hypothesis = W*x_data+b\n",
        "    cost = tf.reduce_mean(tf.square(hypothesis - y_data))\n",
        "\n",
        "W_grad, b_grad = tape.gradient(cost, [W,b])\n",
        "\n",
        "W.assign_sub(learning_rate * W_grad)     # A.assign_sub(B) A = A-B\n",
        "b.assign_sub(learning_rate * b_grad)\n",
        "  "
      ],
      "metadata": {
        "colab": {
          "base_uri": "https://localhost:8080/"
        },
        "id": "1xIXqA5Cl1O6",
        "outputId": "8de2a664-9a01-4c8c-d9fb-9eefdcb61507"
      },
      "execution_count": 20,
      "outputs": [
        {
          "output_type": "execute_result",
          "data": {
            "text/plain": [
              "<tf.Variable 'UnreadVariable' shape=() dtype=float32, numpy=0.376>"
            ]
          },
          "metadata": {},
          "execution_count": 20
        }
      ]
    },
    {
      "cell_type": "code",
      "source": [
        "W = tf.Variable(2.9) # 초기값\n",
        "b = tf.Variable(0.5) # 초기값"
      ],
      "metadata": {
        "id": "tCuYFIhVolEn"
      },
      "execution_count": 16,
      "outputs": []
    },
    {
      "cell_type": "markdown",
      "source": [
        "Full code"
      ],
      "metadata": {
        "id": "TEA0wo9aseMQ"
      }
    },
    {
      "cell_type": "code",
      "source": [
        "import tensorflow as tf\n",
        "\n",
        "# data\n",
        "x_data = [1,2,3,4,5]\n",
        "y_data = [1,2,3,4,5]\n",
        "\n",
        "# W, b initialize\n",
        "W = tf.Variable(2.9)\n",
        "b = tf.Variable(0.5)\n",
        "\n",
        "learning_rate = 0.01\n",
        "\n",
        "for i in range(100+1):  # W,b update\n",
        "  # Gradient descent\n",
        "  with tf.GradientTape() as tape:\n",
        "    hypothesis = W*x_data+b\n",
        "    cost = tf.reduce_mean(tf.square(hypothesis - y_data))\n",
        "\n",
        "  W_grad, b_grad = tape.gradient(cost, [W,b])\n",
        "\n",
        "  W.assign_sub(learning_rate * W_grad)     # A.assign_sub(B) A = A-B\n",
        "  b.assign_sub(learning_rate * b_grad)\n",
        "\n",
        "  if i % 10 == 0:\n",
        "    print(\"{:5}|{:10.4}|{:10.6f}\".format(i,W.numpy(),b.numpy(),cost))\n",
        "    "
      ],
      "metadata": {
        "colab": {
          "base_uri": "https://localhost:8080/"
        },
        "id": "6pNSF6zWyadn",
        "outputId": "2a0513d5-25ba-4c31-f829-2309b13b060c"
      },
      "execution_count": 22,
      "outputs": [
        {
          "output_type": "stream",
          "name": "stdout",
          "text": [
            "    0|     2.452|  0.376000\n",
            "   10|     1.104|  0.003398\n",
            "   20|     1.013| -0.020915\n",
            "   30|     1.007| -0.021845\n",
            "   40|     1.006| -0.021227\n",
            "   50|     1.006| -0.020527\n",
            "   60|     1.005| -0.019844\n",
            "   70|     1.005| -0.019183\n",
            "   80|     1.005| -0.018544\n",
            "   90|     1.005| -0.017927\n",
            "  100|     1.005| -0.017330\n"
          ]
        }
      ]
    },
    {
      "cell_type": "markdown",
      "source": [
        "**2. Linear regression and How to minimize cost LAB**"
      ],
      "metadata": {
        "id": "A0aiFSzZ5rTi"
      }
    },
    {
      "cell_type": "markdown",
      "source": [
        "cost function in pure Python"
      ],
      "metadata": {
        "id": "NYSt07batuV6"
      }
    },
    {
      "cell_type": "code",
      "source": [
        "import numpy as np"
      ],
      "metadata": {
        "id": "JFQenDWHCKjK"
      },
      "execution_count": 26,
      "outputs": []
    },
    {
      "cell_type": "code",
      "source": [
        "X = np.array([1,2,3])\n",
        "Y = np.array([1,2,3])"
      ],
      "metadata": {
        "id": "6yFVQY3No0v4"
      },
      "execution_count": 27,
      "outputs": []
    },
    {
      "cell_type": "code",
      "source": [
        "def cost_func(W,X,Y):\n",
        "    c= 0\n",
        "    for i in range(len(X)):\n",
        "        c += (W*X[i]-Y[i])**2\n",
        "    return c/len(X)     "
      ],
      "metadata": {
        "id": "oBoQswUVo8t1"
      },
      "execution_count": 28,
      "outputs": []
    },
    {
      "cell_type": "code",
      "source": [
        "for feed_W in np.linspace(-3,5,num=15):\n",
        "    curr_cost = cost_func(feed_W,X,Y)\n",
        "    print(\"{:6.3f}|{:10.5f}\".format(feed_W, curr_cost))"
      ],
      "metadata": {
        "colab": {
          "base_uri": "https://localhost:8080/"
        },
        "id": "GkelbqpwqGO9",
        "outputId": "ccb3b3da-d0f8-47f3-9d78-745d617342f8"
      },
      "execution_count": 29,
      "outputs": [
        {
          "output_type": "stream",
          "name": "stdout",
          "text": [
            "-3.000|  74.66667\n",
            "-2.429|  54.85714\n",
            "-1.857|  38.09524\n",
            "-1.286|  24.38095\n",
            "-0.714|  13.71429\n",
            "-0.143|   6.09524\n",
            " 0.429|   1.52381\n",
            " 1.000|   0.00000\n",
            " 1.571|   1.52381\n",
            " 2.143|   6.09524\n",
            " 2.714|  13.71429\n",
            " 3.286|  24.38095\n",
            " 3.857|  38.09524\n",
            " 4.429|  54.85714\n",
            " 5.000|  74.66667\n"
          ]
        }
      ]
    },
    {
      "cell_type": "markdown",
      "source": [
        "Gradient descent"
      ],
      "metadata": {
        "id": "AO2ZP-TXxEoY"
      }
    },
    {
      "cell_type": "code",
      "source": [
        ""
      ],
      "metadata": {
        "id": "CVwEFcA7tZ3m"
      },
      "execution_count": null,
      "outputs": []
    }
  ]
}